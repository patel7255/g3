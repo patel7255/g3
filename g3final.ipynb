{
  "nbformat": 4,
  "nbformat_minor": 0,
  "metadata": {
    "kernelspec": {
      "name": "python3",
      "display_name": "Python 3.8.7 64-bit",
      "metadata": {
        "interpreter": {
          "hash": "9ddfba760c93d0781cb88c4db9a31eb68ca4e1616821530f19d735f356a5c9ec"
        }
      }
    },
    "language_info": {
      "codemirror_mode": {
        "name": "ipython",
        "version": 3
      },
      "file_extension": ".py",
      "mimetype": "text/x-python",
      "name": "python",
      "nbconvert_exporter": "python",
      "pygments_lexer": "ipython3",
      "version": "3.8.7-final"
    },
    "colab": {
      "name": "g3final.ipynb",
      "provenance": [],
      "collapsed_sections": []
    }
  },
  "cells": [
    {
      "cell_type": "code",
      "metadata": {
        "id": "3FjBASK15WAs"
      },
      "source": [
        "import pandas as pd\n",
        "import numpy as np\n",
        "from matplotlib import pyplot as plt\n",
        "import seaborn as sns\n",
        "! pip install alpha-vantage\n",
        "from alpha_vantage.timeseries import TimeSeries"
      ],
      "execution_count": null,
      "outputs": []
    },
    {
      "cell_type": "code",
      "metadata": {
        "id": "wP98KTCg5WBN"
      },
      "source": [
        "demo = 'NV2Y5IAVZKQOFHKX' #YOUR API KEY HERE"
      ],
      "execution_count": null,
      "outputs": []
    },
    {
      "cell_type": "code",
      "metadata": {
        "id": "Yd8tCud35WBT"
      },
      "source": [
        "url_global_deaths = r\"https://raw.githubusercontent.com/CSSEGISandData/COVID-19/master/csse_covid_19_data/csse_covid_19_time_series/time_series_covid19_deaths_global.csv\"\n",
        "url_global_confirmed = r\"https://raw.githubusercontent.com/CSSEGISandData/COVID-19/master/csse_covid_19_data/csse_covid_19_time_series/time_series_covid19_confirmed_global.csv\"\n",
        "url_retail_stock = r'https://www.alphavantage.co/query?function=TIME_SERIES_DAILY&symbol=NYSE:SPG&apikey=' + demo + '&datatype=csv'\n",
        "url_usa_stock = r'https://www.alphavantage.co/query?function=TIME_SERIES_DAILY&symbol=MSFT&apikey=' + demo + '&datatype=csv'\n",
        "url_canada_stock = r'https://www.alphavantage.co/query?function=TIME_SERIES_DAILY&symbol=TSE:BB&apikey=' + demo + '&datatype=csv'\n",
        "url_travel_stock = r'https://www.alphavantage.co/query?function=TIME_SERIES_DAILY&symbol=EXPE&apikey=' + demo + '&datatype=csv'\n",
        "url_material_stock = r'https://www.alphavantage.co/query?function=TIME_SERIES_DAILY&symbol=NYSE:GOLD&apikey=' + demo + '&datatype=csv'"
      ],
      "execution_count": null,
      "outputs": []
    },
    {
      "cell_type": "code",
      "metadata": {
        "id": "gnELL26v5WBV"
      },
      "source": [
        "deaths_df = pd.read_csv(url_global_deaths)\n",
        "confirm_df = pd.read_csv(url_global_confirmed)\n",
        "us_stock = pd.read_csv(url_usa_stock)\n",
        "ca_stock = pd.read_csv(url_canada_stock)\n",
        "retail_stock = pd.read_csv(url_retail_stock)\n",
        "travel_stock = pd.read_csv(url_travel_stock)\n",
        "material_stock = pd.read_csv(url_material_stock)"
      ],
      "execution_count": null,
      "outputs": []
    },
    {
      "cell_type": "code",
      "metadata": {
        "id": "3zBy_4Cu5WBW"
      },
      "source": [
        "print(deaths_df.shape)\n",
        "print(confirm_df.shape)\n",
        "print(us_stock.shape)\n",
        "print(ca_stock.shape)\n",
        "print(retail_stock.shape)\n",
        "print(travel_stock.shape)\n",
        "print(material_stock.shape)"
      ],
      "execution_count": null,
      "outputs": []
    },
    {
      "cell_type": "code",
      "metadata": {
        "id": "WLt3Bg405WBY"
      },
      "source": [
        "deaths_df_long = pd.melt(deaths_df, id_vars=['Province/State', 'Country/Region', 'Lat', 'Long'],\n",
        "                        value_vars= deaths_df.columns[4:], var_name='timestamp', value_name='death_cases')\n",
        "\n",
        "confirm_df_long = pd.melt(confirm_df, id_vars=['Province/State', 'Country/Region', 'Lat', 'Long'],\n",
        "                        value_vars= confirm_df.columns[4:], var_name='timestamp', value_name='confirmed_cases')"
      ],
      "execution_count": null,
      "outputs": []
    },
    {
      "cell_type": "code",
      "metadata": {
        "id": "GdXgoJ505WBa"
      },
      "source": [
        "deaths_df_long.head()"
      ],
      "execution_count": null,
      "outputs": []
    },
    {
      "cell_type": "code",
      "metadata": {
        "id": "ldQlSknM5WBb"
      },
      "source": [
        "confirm_df_long.head()"
      ],
      "execution_count": null,
      "outputs": []
    },
    {
      "cell_type": "code",
      "metadata": {
        "id": "BqL8wJxM5WBd"
      },
      "source": [
        "us_stock['stock_name'] = 'MSFT'\n",
        "ca_stock['stock_name'] = 'BB'\n",
        "retail_stock['stock_name'] = 'SPG'\n",
        "travel_stock['stock_name'] = 'EXPE'\n",
        "material_stock['stock_name'] = 'GOLD'"
      ],
      "execution_count": null,
      "outputs": []
    },
    {
      "cell_type": "code",
      "metadata": {
        "id": "rk3cUuo65WBe"
      },
      "source": [
        "final_stock = pd.concat([us_stock, ca_stock, retail_stock, travel_stock, material_stock]).reset_index(drop = True)\n",
        "final_stock.stock_name.unique()"
      ],
      "execution_count": null,
      "outputs": []
    },
    {
      "cell_type": "code",
      "metadata": {
        "id": "TfjEa4yx5WBe"
      },
      "source": [
        "final_stock.shape"
      ],
      "execution_count": null,
      "outputs": []
    },
    {
      "cell_type": "code",
      "metadata": {
        "id": "PvSvOMk95WBi"
      },
      "source": [
        "final_stock.tail()"
      ],
      "execution_count": null,
      "outputs": []
    },
    {
      "cell_type": "code",
      "metadata": {
        "id": "K3r9c_Na5WCH"
      },
      "source": [
        "deaths_df_long = deaths_df_long.groupby(['Country/Region','timestamp'])['death_cases'].sum().reset_index()\n",
        "confirm_df_long = confirm_df_long.groupby(['Country/Region','timestamp'])['confirmed_cases'].sum().reset_index()\n",
        "final_covid = pd.concat([deaths_df_long, confirm_df_long['confirmed_cases']], axis = 1)"
      ],
      "execution_count": null,
      "outputs": []
    },
    {
      "cell_type": "code",
      "metadata": {
        "id": "_CaI7d2r5WCI"
      },
      "source": [
        "final_covid.head()"
      ],
      "execution_count": null,
      "outputs": []
    },
    {
      "cell_type": "code",
      "metadata": {
        "id": "DuyWMPjv5WCJ"
      },
      "source": [
        "final_covid.tail()"
      ],
      "execution_count": null,
      "outputs": []
    },
    {
      "cell_type": "code",
      "metadata": {
        "id": "5Wcet_Pg5WCK"
      },
      "source": [
        "final_covid['timestamp'] = pd.to_datetime(final_covid.timestamp)\n",
        "final_stock['timestamp'] = pd.to_datetime(final_stock.timestamp)"
      ],
      "execution_count": null,
      "outputs": []
    },
    {
      "cell_type": "code",
      "metadata": {
        "id": "it_dEcm85WCL"
      },
      "source": [
        "final_data = final_stock.merge(final_covid, on = 'timestamp', how = 'left')"
      ],
      "execution_count": null,
      "outputs": []
    },
    {
      "cell_type": "code",
      "metadata": {
        "id": "yvVNRncE5WCM"
      },
      "source": [
        "final_data.head()"
      ],
      "execution_count": null,
      "outputs": []
    },
    {
      "cell_type": "code",
      "metadata": {
        "id": "AypXqyow5WCN"
      },
      "source": [
        "final_data.shape"
      ],
      "execution_count": null,
      "outputs": []
    },
    {
      "cell_type": "code",
      "metadata": {
        "id": "eqXdzCQU5WCO"
      },
      "source": [
        "final_data.timestamp.min()"
      ],
      "execution_count": null,
      "outputs": []
    },
    {
      "cell_type": "code",
      "metadata": {
        "id": "EeK1d9Xn5WCP"
      },
      "source": [
        "final_data.timestamp.max()"
      ],
      "execution_count": null,
      "outputs": []
    },
    {
      "cell_type": "code",
      "metadata": {
        "id": "sJR9XBkh5WCQ"
      },
      "source": [
        "final_data.isna().sum()"
      ],
      "execution_count": null,
      "outputs": []
    },
    {
      "cell_type": "code",
      "metadata": {
        "id": "3R_VhLYG5WCW"
      },
      "source": [
        "MSFT_final = final_data[final_data.stock_name == 'MSFT']"
      ],
      "execution_count": null,
      "outputs": []
    },
    {
      "cell_type": "code",
      "metadata": {
        "id": "MjPQsxip5WCX"
      },
      "source": [
        "MSFT_final.head()"
      ],
      "execution_count": null,
      "outputs": []
    },
    {
      "cell_type": "code",
      "metadata": {
        "id": "Z9kPGzKB5WCb"
      },
      "source": [
        "MSFT_final1 = pd.DataFrame()\n",
        "MSFT_final1['timestamp'] = MSFT_final[MSFT_final['Country/Region'] == 'US'].timestamp\n",
        "MSFT_final1['death_cases'] = (MSFT_final[MSFT_final['Country/Region'] == 'US'].death_cases - MSFT_final[MSFT_final['Country/Region'] == 'US'].death_cases.mean())/MSFT_final[MSFT_final['Country/Region'] == 'US'].death_cases.std()\n",
        "MSFT_final1['confirmed_cases'] = (MSFT_final[MSFT_final['Country/Region'] == 'US'].confirmed_cases - MSFT_final[MSFT_final['Country/Region'] == 'US'].confirmed_cases.mean())/MSFT_final[MSFT_final['Country/Region'] == 'US'].confirmed_cases.std()\n",
        "MSFT_final1['high'] = (MSFT_final[MSFT_final['Country/Region'] == 'US'].high - MSFT_final[MSFT_final['Country/Region'] == 'US'].high.mean())/MSFT_final[MSFT_final['Country/Region'] == 'US'].high.std()\n",
        "MSFT_final1['low'] = (MSFT_final[MSFT_final['Country/Region'] == 'US'].low - MSFT_final[MSFT_final['Country/Region'] == 'US'].low.mean())/MSFT_final[MSFT_final['Country/Region'] == 'US'].low.std()\n",
        "MSFT_final1['open'] = (MSFT_final[MSFT_final['Country/Region'] == 'US'].open - MSFT_final[MSFT_final['Country/Region'] == 'US'].open.mean())/MSFT_final[MSFT_final['Country/Region'] == 'US'].open.std()\n",
        "MSFT_final1['close'] = (MSFT_final[MSFT_final['Country/Region'] == 'US'].close - MSFT_final[MSFT_final['Country/Region'] == 'US'].close.mean())/MSFT_final[MSFT_final['Country/Region'] == 'US'].close.std()"
      ],
      "execution_count": null,
      "outputs": []
    },
    {
      "cell_type": "code",
      "metadata": {
        "id": "dO4Blc1T5WCd"
      },
      "source": [
        "MSFT_final1.head()"
      ],
      "execution_count": null,
      "outputs": []
    },
    {
      "cell_type": "code",
      "metadata": {
        "id": "L1Qw3Fp-5WCe"
      },
      "source": [
        "plt.plot(MSFT_final1.timestamp, MSFT_final1.death_cases, label = 'death_cases')\n",
        "plt.plot(MSFT_final1.timestamp, MSFT_final1.confirmed_cases, label = 'confirmed_cases')\n",
        "plt.plot(MSFT_final1.timestamp, MSFT_final1.high, label = 'high')\n",
        "plt.plot(MSFT_final1.timestamp, MSFT_final1.low, label = 'low')\n",
        "plt.plot(MSFT_final1.timestamp, MSFT_final1.open, label = 'open')\n",
        "plt.plot(MSFT_final1.timestamp, MSFT_final1.close, label = 'close')\n",
        "plt.legend()\n",
        "plt.title('Stock Analysis Microsoft USA')\n",
        "plt.show()"
      ],
      "execution_count": null,
      "outputs": []
    },
    {
      "cell_type": "code",
      "metadata": {
        "id": "p8H930iw5WCf"
      },
      "source": [
        "BB_final = final_data[final_data.stock_name == 'BB']\n",
        "BB_final1 = pd.DataFrame()\n",
        "BB_final1['timestamp'] = BB_final[BB_final['Country/Region'] == 'Canada'].timestamp\n",
        "BB_final1['death_cases'] = (BB_final[BB_final['Country/Region'] == 'Canada'].death_cases - BB_final[BB_final['Country/Region'] == 'Canada'].death_cases.mean())/BB_final[BB_final['Country/Region'] == 'Canada'].death_cases.std()\n",
        "BB_final1['confirmed_cases'] = (BB_final[BB_final['Country/Region'] == 'Canada'].confirmed_cases - BB_final[BB_final['Country/Region'] == 'Canada'].confirmed_cases.mean())/BB_final[BB_final['Country/Region'] == 'Canada'].confirmed_cases.std()\n",
        "BB_final1['high'] = (BB_final[BB_final['Country/Region'] == 'Canada'].high - BB_final[BB_final['Country/Region'] == 'Canada'].high.mean())/BB_final[BB_final['Country/Region'] == 'Canada'].high.std()\n",
        "BB_final1['low'] = (BB_final[BB_final['Country/Region'] == 'Canada'].low - BB_final[BB_final['Country/Region'] == 'Canada'].low.mean())/BB_final[BB_final['Country/Region'] == 'Canada'].low.std()\n",
        "BB_final1['open'] = (BB_final[BB_final['Country/Region'] == 'Canada'].open - BB_final[BB_final['Country/Region'] == 'Canada'].open.mean())/BB_final[BB_final['Country/Region'] == 'Canada'].open.std()\n",
        "BB_final1['close'] = (BB_final[BB_final['Country/Region'] == 'Canada'].close - BB_final[BB_final['Country/Region'] == 'Canada'].close.mean())/BB_final[BB_final['Country/Region'] == 'Canada'].close.std()"
      ],
      "execution_count": null,
      "outputs": []
    },
    {
      "cell_type": "code",
      "metadata": {
        "id": "nG0y8z265WCh"
      },
      "source": [
        "plt.plot(BB_final1.timestamp, BB_final1.death_cases, label = 'death_cases')\n",
        "plt.plot(BB_final1.timestamp, BB_final1.confirmed_cases, label = 'confirmed_cases')\n",
        "plt.plot(BB_final1.timestamp, BB_final1.high, label = 'high')\n",
        "plt.plot(BB_final1.timestamp, BB_final1.low, label = 'low')\n",
        "plt.plot(BB_final1.timestamp, BB_final1.open, label = 'open')\n",
        "plt.plot(BB_final1.timestamp, BB_final1.close, label = 'close')\n",
        "plt.legend()\n",
        "plt.title('Stock Analysis Blackberry Canada')\n",
        "plt.show()\n"
      ],
      "execution_count": null,
      "outputs": []
    },
    {
      "cell_type": "code",
      "metadata": {
        "id": "t3dGAeux5WCu"
      },
      "source": [
        "SPG_final = final_data[final_data.stock_name == 'SPG']"
      ],
      "execution_count": null,
      "outputs": []
    },
    {
      "cell_type": "code",
      "metadata": {
        "id": "rLp-7trQ5WCv"
      },
      "source": [
        "SPG_final.shape"
      ],
      "execution_count": null,
      "outputs": []
    },
    {
      "cell_type": "code",
      "metadata": {
        "id": "DjWer1Am5WCw"
      },
      "source": [
        "SPG_final.head()"
      ],
      "execution_count": null,
      "outputs": []
    },
    {
      "cell_type": "code",
      "metadata": {
        "id": "bzXiRsQz5WCw"
      },
      "source": [
        "SPG_final1 = SPG_final.groupby('timestamp')['open','high','low','close'].mean().reset_index().merge(SPG_final.groupby('timestamp')['death_cases','confirmed_cases'].sum().reset_index(),\n",
        "                                                                                                   on = 'timestamp')"
      ],
      "execution_count": null,
      "outputs": []
    },
    {
      "cell_type": "code",
      "metadata": {
        "id": "2j44ofNu5WCx"
      },
      "source": [
        "SPG_final1.shape"
      ],
      "execution_count": null,
      "outputs": []
    },
    {
      "cell_type": "code",
      "metadata": {
        "id": "KHsp-ip75WC4"
      },
      "source": [
        "SPG_final1['death_cases'] = (SPG_final1.death_cases - SPG_final1.death_cases.mean())/SPG_final1.death_cases.std()\n",
        "SPG_final1['confirmed_cases'] = (SPG_final1.confirmed_cases - SPG_final1.confirmed_cases.mean())/SPG_final1.confirmed_cases.std()\n",
        "SPG_final1['high'] = (SPG_final1.high - SPG_final1.high.mean())/SPG_final1.high.std()\n",
        "SPG_final1['low'] = (SPG_final1.low - SPG_final1.low.mean())/SPG_final1.low.std()\n",
        "SPG_final1['open'] = (SPG_final1.open - SPG_final1.open.mean())/SPG_final1.open.std()\n",
        "SPG_final1['close'] = (SPG_final1.close - SPG_final1.close.mean())/SPG_final1.close.std()"
      ],
      "execution_count": null,
      "outputs": []
    },
    {
      "cell_type": "code",
      "metadata": {
        "id": "33L7d_Wp5WC5"
      },
      "source": [
        "plt.figure(figsize=(10,5))\n",
        "plt.plot(SPG_final1.timestamp, SPG_final1.death_cases, label = 'death_cases')\n",
        "plt.plot(SPG_final1.timestamp, SPG_final1.confirmed_cases, label = 'confirmed_cases')\n",
        "plt.plot(SPG_final1.timestamp, SPG_final1.high, label = 'high')\n",
        "plt.plot(SPG_final1.timestamp, SPG_final1.low, label = 'low')\n",
        "plt.plot(SPG_final1.timestamp, SPG_final1.open, label = 'open')\n",
        "plt.plot(SPG_final1.timestamp, SPG_final1.close, label = 'close')\n",
        "plt.legend()\n",
        "plt.title('Stock Analysis Simon Property Group for retail stock')\n",
        "plt.show()"
      ],
      "execution_count": null,
      "outputs": []
    },
    {
      "cell_type": "code",
      "metadata": {
        "id": "YVHSzcVk5WC6"
      },
      "source": [
        "EXPE_final = final_data[final_data.stock_name == 'EXPE']\n",
        "EXPE_final1 = EXPE_final.groupby('timestamp')['open','high','low','close'].mean().reset_index().merge(EXPE_final.groupby('timestamp')['death_cases','confirmed_cases'].sum().reset_index(),\n",
        "                                                                                                   on = 'timestamp')\n",
        "\n",
        "EXPE_final1['death_cases'] = (EXPE_final1.death_cases - EXPE_final1.death_cases.mean())/EXPE_final1.death_cases.std()\n",
        "EXPE_final1['confirmed_cases'] = (EXPE_final1.confirmed_cases - EXPE_final1.confirmed_cases.mean())/EXPE_final1.confirmed_cases.std()\n",
        "EXPE_final1['high'] = (EXPE_final1.high - EXPE_final1.high.mean())/EXPE_final1.high.std()\n",
        "EXPE_final1['low'] = (EXPE_final1.low - EXPE_final1.low.mean())/EXPE_final1.low.std()\n",
        "EXPE_final1['open'] = (EXPE_final1.open - EXPE_final1.open.mean())/EXPE_final1.open.std()\n",
        "EXPE_final1['close'] = (EXPE_final1.close - EXPE_final1.close.mean())/EXPE_final1.close.std()"
      ],
      "execution_count": null,
      "outputs": []
    },
    {
      "cell_type": "code",
      "metadata": {
        "id": "mwdamXje5WC-"
      },
      "source": [
        "plt.figure(figsize=(10,5))\n",
        "plt.plot(EXPE_final1.timestamp, EXPE_final1.death_cases, label = 'death_cases')\n",
        "plt.plot(EXPE_final1.timestamp, EXPE_final1.confirmed_cases, label = 'confirmed_cases')\n",
        "plt.plot(EXPE_final1.timestamp, EXPE_final1.high, label = 'high')\n",
        "plt.plot(EXPE_final1.timestamp, EXPE_final1.low, label = 'low')\n",
        "plt.plot(EXPE_final1.timestamp, EXPE_final1.open, label = 'open')\n",
        "plt.plot(EXPE_final1.timestamp, EXPE_final1.close, label = 'close')\n",
        "plt.legend()\n",
        "plt.title('Stock Analysis Expedia for travel stock')\n",
        "plt.show()"
      ],
      "execution_count": null,
      "outputs": []
    },
    {
      "cell_type": "code",
      "metadata": {
        "id": "IP8mlQKd5WC_"
      },
      "source": [
        "GOLD_final = final_data[final_data.stock_name == 'GOLD']\n",
        "GOLD_final1 = GOLD_final.groupby('timestamp')['open','high','low','close'].mean().reset_index().merge(GOLD_final.groupby('timestamp')['death_cases','confirmed_cases'].sum().reset_index(),\n",
        "                                                                                                   on = 'timestamp')\n",
        "\n",
        "GOLD_final1['death_cases'] = (GOLD_final1.death_cases - GOLD_final1.death_cases.mean())/GOLD_final1.death_cases.std()\n",
        "GOLD_final1['confirmed_cases'] = (GOLD_final1.confirmed_cases - GOLD_final1.confirmed_cases.mean())/GOLD_final1.confirmed_cases.std()\n",
        "GOLD_final1['high'] = (GOLD_final1.high - GOLD_final1.high.mean())/GOLD_final1.high.std()\n",
        "GOLD_final1['low'] = (GOLD_final1.low - GOLD_final1.low.mean())/GOLD_final1.low.std()\n",
        "GOLD_final1['open'] = (GOLD_final1.open - GOLD_final1.open.mean())/GOLD_final1.open.std()\n",
        "GOLD_final1['close'] = (GOLD_final1.close - GOLD_final1.close.mean())/GOLD_final1.close.std()"
      ],
      "execution_count": null,
      "outputs": []
    },
    {
      "cell_type": "code",
      "metadata": {
        "id": "GV5JWepP5WDB"
      },
      "source": [
        "plt.figure(figsize=(10,5))\n",
        "plt.plot(GOLD_final1.timestamp, GOLD_final1.death_cases, label = 'death_cases')\n",
        "plt.plot(GOLD_final1.timestamp, GOLD_final1.confirmed_cases, label = 'confirmed_cases')\n",
        "plt.plot(GOLD_final1.timestamp, GOLD_final1.high, label = 'high')\n",
        "plt.plot(GOLD_final1.timestamp, GOLD_final1.low, label = 'low')\n",
        "plt.plot(GOLD_final1.timestamp, GOLD_final1.open, label = 'open')\n",
        "plt.plot(GOLD_final1.timestamp, GOLD_final1.close, label = 'close')\n",
        "plt.legend()\n",
        "plt.title('Stock Analysis GOLD for material stock')\n",
        "plt.show()"
      ],
      "execution_count": null,
      "outputs": []
    },
    {
      "cell_type": "code",
      "metadata": {
        "id": "Oj7D1HBG5WDC"
      },
      "source": [],
      "execution_count": null,
      "outputs": []
    }
  ]
}